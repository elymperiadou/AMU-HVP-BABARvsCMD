{
 "cells": [
  {
   "cell_type": "code",
   "execution_count": 1,
   "id": "bb71d57b",
   "metadata": {},
   "outputs": [],
   "source": [
    "import pandas as pd\n",
    "import numpy as np\n",
    "import math\n",
    "from sympy import *\n",
    "import matplotlib.pyplot as plt\n",
    "%matplotlib inline \n",
    "from mpl_toolkits.axes_grid1.inset_locator import zoomed_inset_axes, mark_inset\n",
    "\n",
    "\n",
    "from numpy import log as ln\n",
    "from scipy.stats import expon\n",
    "from scipy.stats import norm\n",
    "from scipy.optimize import curve_fit\n",
    "import array as arr\n",
    "\n",
    "\n",
    "from scipy.optimize import minimize_scalar\n",
    "from scipy.integrate import quad\n",
    "from scipy import integrate\n",
    "from scipy.interpolate import interp1d\n",
    "\n",
    "\n",
    "\n",
    "\n",
    "Mp=0.13957\n",
    "\n",
    "Γomegatot=0.00849\n",
    "Γphitot=0.004249\n",
    "\n",
    "Mm=0.1056583755\n",
    "alpha=7.2973525693*1e-3"
   ]
  },
  {
   "cell_type": "markdown",
   "id": "b4a04694",
   "metadata": {},
   "source": [
    "## Import δ(s)-data/ Define the δ(s)"
   ]
  },
  {
   "cell_type": "code",
   "execution_count": 2,
   "id": "c058c0d7",
   "metadata": {},
   "outputs": [
    {
     "name": "stdout",
     "output_type": "stream",
     "text": [
      "7124 7124 <class 'list'>\n"
     ]
    }
   ],
   "source": [
    "#Bern phase shirft data\n",
    "sdata_list = []\n",
    "ps_list = []\n",
    "\n",
    "with open('phase_pipi_1.dat', 'r') as file:\n",
    "    lines = file.readlines()\n",
    "    for line in lines:\n",
    "        values = line.strip().split('\\t')  # Split the line into values using tab as delimiter\n",
    "        if len(values) >= 2:\n",
    "            sdata_list.append(float(values[0]))\n",
    "            ps_list.append(float(values[1]))\n",
    "            \n",
    "print(len(sdata_list), len(ps_list),type(sdata_list))\n",
    "\n",
    "ps=np.array(ps_list)\n",
    "\n",
    "sdata= (np.array(sdata_list)*(Mp**2))\n",
    "\n",
    "\n",
    "\n",
    "\n",
    "#Definition in δ(s)\n",
    "int_ps= interp1d(sdata, ps)\n",
    "λ0=10\n",
    "\n",
    "def high_ps(s):\n",
    "    return np.pi+(int_ps(sdata[len(sdata)-1])-np.pi)*((λ0**2 + sdata[len(sdata)-1])/(λ0**2 + s))\n",
    "\n",
    "\n",
    "def ps_func(x):\n",
    "    return np.piecewise(x, [(x>=4* Mp**2) & ( x <= 25), x>=25], [lambda x: int_ps(x), lambda x: high_ps(x)])\n"
   ]
  },
  {
   "cell_type": "markdown",
   "id": "75c13a3d",
   "metadata": {},
   "source": [
    "## Defined funcs for PV-value calculations"
   ]
  },
  {
   "cell_type": "code",
   "execution_count": 3,
   "id": "29bf0f1e",
   "metadata": {},
   "outputs": [],
   "source": [
    "def integrand(x, s):\n",
    "    return (float(ps_func(x))- ps_func(s)) / (x * (x - s))"
   ]
  },
  {
   "cell_type": "markdown",
   "id": "ba6a16d7",
   "metadata": {},
   "source": [
    "## Import CMD data\n"
   ]
  },
  {
   "cell_type": "code",
   "execution_count": 4,
   "id": "3f3cc54c",
   "metadata": {},
   "outputs": [],
   "source": [
    "AbsFF2_list= []\n",
    "svalues_list=[]\n",
    "FF2err_list=[]\n",
    "\n",
    "\n",
    "with open('CMD_2023_RHO_2013(text).txt', 'r') as file:\n",
    "    lines = file.readlines()\n",
    "    for line in lines:\n",
    "        values = line.strip().split('\\t')  \n",
    "        if len(values) >= 2:\n",
    "            svalues_list.append(float(values[0]))\n",
    "            AbsFF2_list.append(float(values[1]))\n",
    "            FF2err_list.append(float(values[2]))\n",
    "            \n",
    "with open('CMD_2023_RHO_2018(text).txt', 'r') as file:\n",
    "    lines = file.readlines()\n",
    "    for line in lines:\n",
    "        values = line.strip().split('\\t')  \n",
    "        if len(values) >= 2:\n",
    "            svalues_list.append(float(values[0]))\n",
    "            AbsFF2_list.append(float(values[1]))\n",
    "            FF2err_list.append(float(values[2]))\n",
    "            \n",
    "with open('CMD_2023_LOW_2020(text).txt', 'r') as file:\n",
    "    lines = file.readlines()\n",
    "    for line in lines:\n",
    "        values = line.strip().split('\\t')  \n",
    "        if len(values) >= 2:\n",
    "            svalues_list.append(float(values[0]))\n",
    "            AbsFF2_list.append(float(values[1]))\n",
    "            FF2err_list.append(float(values[2]))\n",
    "                    \n",
    "\n",
    "#Putting the values into np.arrays that are easier to mathematically use in code             \n",
    "AbsFF2_0=np.array(AbsFF2_list)\n",
    "svalues_0=np.array(svalues_list)\n",
    "FF2err_0=np.array(FF2err_list)"
   ]
  },
  {
   "cell_type": "code",
   "execution_count": 5,
   "id": "378e4bf2",
   "metadata": {},
   "outputs": [
    {
     "data": {
      "image/png": "[encoded data removed]",
      "text/plain": [
       "<Figure size 432x288 with 1 Axes>"
      ]
     },
     "metadata": {
      "needs_background": "light"
     },
     "output_type": "display_data"
    }
   ],
   "source": [
    "plt.plot(svalues_0,AbsFF2_0) #Checking the form of the data\n",
    "\n",
    "plt.show()"
   ]
  },
  {
   "cell_type": "code",
   "execution_count": 6,
   "id": "523a9159",
   "metadata": {},
   "outputs": [
    {
     "data": {
      "image/png": "[encoded data removed]",
      "text/plain": [
       "<Figure size 432x288 with 1 Axes>"
      ]
     },
     "metadata": {
      "needs_background": "light"
     },
     "output_type": "display_data"
    }
   ],
   "source": [
    "#The command: new_x, new_y = zip(*sorted(zip(x, y)))\n",
    "#Sorts the x values with ascending order and then puts the corresponding y[i] into the i-place of x[i]\n",
    "\n",
    "svalues_1, AbsFF2_1 = zip(*sorted(zip(svalues_0, AbsFF2_0)))\n",
    "svalues_1=np.array(svalues_1)\n",
    "AbsFF2_1=np.array(AbsFF2_1)\n",
    "\n",
    "svalues_1, FF2err_1= zip(*sorted(zip(svalues_0, FF2err_0)))\n",
    "svalues_1=np.array(svalues_1)\n",
    "FF2err_1=np.array(FF2err_1)\n",
    "\n",
    "plt.plot(svalues_1,AbsFF2_1) #Checking the form of the data\n",
    "\n",
    "plt.show()\n"
   ]
  },
  {
   "cell_type": "code",
   "execution_count": 7,
   "id": "23c066ae",
   "metadata": {},
   "outputs": [
    {
     "name": "stdout",
     "output_type": "stream",
     "text": [
      "206 1060.255\n"
     ]
    }
   ],
   "source": [
    "svalues=[]\n",
    "AbsFF2=[]\n",
    "FF2err=[]\n",
    "\n",
    "for i in range(0,len(svalues_1)):\n",
    "    #if svalues_1[i]<600:\n",
    "    #    continue     \n",
    "        \n",
    "    \n",
    "    if (svalues_1[i]/1000)**2 <=1.2:\n",
    "        \n",
    "        svalues.append(svalues_1[i])\n",
    "        AbsFF2.append(AbsFF2_1[i])\n",
    "        FF2err.append(FF2err_1[i])\n",
    "\n",
    "        \n",
    "        \n",
    "\n",
    "    if (svalues_1[i]/1000)**2 >=1.2:\n",
    "        print(i,svalues_1[i-1])\n",
    "        Sstop=i\n",
    "        break\n",
    "\n",
    "\n",
    "svalues=(np.array(svalues)/1000)**2\n",
    "AbsFF2=np.array(AbsFF2)\n",
    "FF2err=np.array(FF2err)        \n",
    "\n",
    "\n",
    "\n",
    "##Encrease the importance of φ-mixing from errors\n",
    "\n",
    "FF2errTEST=[]\n",
    "for i in range(0,len(svalues)):\n",
    "       \n",
    "    if svalues[i]<1.01:\n",
    "        FF2errTEST.append(FF2err[i])\n",
    "        \n",
    "    \n",
    "    if 1.01<=svalues[i]<=1.06:\n",
    "        FF2errTEST.append(FF2err[i])\n",
    "   \n",
    "    if svalues[i]>=1.06:\n",
    "        FF2errTEST.append(FF2err[i])\n",
    "\n",
    "FF2errTEST=np.array(FF2errTEST)"
   ]
  },
  {
   "cell_type": "code",
   "execution_count": null,
   "id": "3130e89b",
   "metadata": {
    "scrolled": false
   },
   "outputs": [],
   "source": [
    "PVresults= []\n",
    "\n",
    "for i in svalues:\n",
    "    result, error=integrate.quad(lambda x: integrand(x, i), 4 * Mp**2, np.inf) \n",
    "    PVresults.append(result)\n"
   ]
  },
  {
   "cell_type": "code",
   "execution_count": 9,
   "id": "0e47db75",
   "metadata": {},
   "outputs": [],
   "source": [
    "OmegaData=[]\n",
    "\n",
    "OmegaData=np.exp( ((svalues*PVresults)/ np.pi) + ps_func(svalues)*1j  - np.log(abs((svalues- 4* Mp**2)/(4*Mp**2)))*ps_func(svalues)/np.pi   )\n",
    "\n",
    "ReOmegaData= OmegaData.real\n",
    "ImOmegaData = OmegaData.imag\n",
    "AbsOmegaData = abs(OmegaData)   \n",
    "    \n",
    "\n",
    "def FFfunc(s,a,Ero,Ephi,Momega,Mphi):\n",
    "    return (1+a*s+((Ero*s)/(Momega**2-s-Momega*Γomegatot*1j))+((Ephi*s)/(Mphi**2-s-Mphi*Γphitot*1j)))*OmegaData\n",
    "\n",
    "\n",
    "\n",
    "def AbsFF2func(s,a,Ero,Ephi,Momega,Mphi):\n",
    "    return (   (abs((1+a*s+((Ero*s)/(Momega**2-s-Momega*Γomegatot*1j))+((Ephi*s)/(Mphi**2-s-Mphi*Γphitot*1j))))**2) *  (AbsOmegaData**2)).real\n",
    "\n"
   ]
  },
  {
   "cell_type": "markdown",
   "id": "53190c98",
   "metadata": {},
   "source": [
    "###  Final error-weighted fit"
   ]
  },
  {
   "cell_type": "code",
   "execution_count": 10,
   "id": "14a58d42",
   "metadata": {},
   "outputs": [
    {
     "name": "stdout",
     "output_type": "stream",
     "text": [
      "a= 0.10955113684362396 , ε(ρω)= 0.0018050302147629954 ε(φ)= -0.0004651959230523455 Μω= 0.7821703491342789 Mφ= 1.0201178184951714\n",
      "[9.56957700e-04 2.48314388e-05 3.48166236e-05 5.79225705e-05\n",
      " 1.31509310e-04]\n"
     ]
    }
   ],
   "source": [
    "p0 = [0.9, 0.004, -0.001, 0.782, 1.02]\n",
    "popt, pcov = curve_fit(AbsFF2func, svalues, AbsFF2, p0=p0, sigma=FF2err, absolute_sigma=True)\n",
    "parameter_errors = np.sqrt(np.diag(pcov))\n",
    "\n",
    "print('a=',popt[0],', ε(ρω)=',popt[1], 'ε(φ)=',popt[2], 'Μω=',popt[3],'Mφ=', popt[4])\n",
    "print(parameter_errors)"
   ]
  },
  {
   "cell_type": "code",
   "execution_count": 11,
   "id": "0d6a7d60",
   "metadata": {},
   "outputs": [
    {
     "data": {
      "text/plain": [
       "array([[ 9.15768039e-07, -5.88808152e-10, -5.54769314e-09,\n",
       "        -1.30864517e-08,  1.95338074e-08],\n",
       "       [-5.88808152e-10,  6.16600352e-10,  9.86435327e-12,\n",
       "        -9.84618405e-11, -4.26207758e-11],\n",
       "       [-5.54769314e-09,  9.86435327e-12,  1.21219728e-09,\n",
       "         3.81142528e-11, -3.43770798e-10],\n",
       "       [-1.30864517e-08, -9.84618405e-11,  3.81142528e-11,\n",
       "         3.35502418e-09, -2.68521469e-10],\n",
       "       [ 1.95338074e-08, -4.26207758e-11, -3.43770798e-10,\n",
       "        -2.68521469e-10,  1.72946986e-08]])"
      ]
     },
     "execution_count": 11,
     "metadata": {},
     "output_type": "execute_result"
    }
   ],
   "source": [
    "pcov"
   ]
  },
  {
   "cell_type": "code",
   "execution_count": 12,
   "id": "f7905ec8",
   "metadata": {
    "scrolled": false
   },
   "outputs": [
    {
     "data": {
      "image/png": "[encoded data removed]",
      "text/plain": [
       "<Figure size 720x432 with 2 Axes>"
      ]
     },
     "metadata": {
      "needs_background": "light"
     },
     "output_type": "display_data"
    }
   ],
   "source": [
    "\n",
    "fitted_curve = AbsFF2func(svalues, *popt)\n",
    "\n",
    "\n",
    "######################\n",
    "\n",
    "chi2=np.sum(((AbsFF2 - AbsFF2func(svalues, *popt))/FF2err)**2)\n",
    "Ndof=len(svalues)-len(popt)\n",
    "\n",
    "chi2red=chi2/Ndof\n",
    "\n",
    "############################\n",
    "\n",
    "#%matplotlib notebook\n",
    "fig, ax = plt.subplots(figsize=(10, 6))\n",
    "\n",
    "ax.errorbar(svalues, AbsFF2, yerr=FF2err, fmt='.', label='Data',zorder=1) \n",
    "ax.plot(svalues, fitted_curve, label='Fitted Curve', color='red',zorder=2)    # Fitted curve\n",
    "\n",
    "ax.tick_params(axis='both', direction='in', length=6, color='k')\n",
    "ax.set_xlabel('s $(GeV^{\\,2})$')\n",
    "ax.set_ylabel('$| F(s) |^{\\,2}$')\n",
    "ax.set_title('Form Factor function fitting (CMD3 Data)-FF4')\n",
    "ax.text(0.1, 32, 'α='+str(round(popt[0],6))+'±'+str(round(parameter_errors[0],6))+'\\n$ε_{ρω}$='+str(round(popt[1],6))+'±'+str(round(parameter_errors[1],6))+'\\n$ε_φ$='+str(round(popt[2],6))+'±'+str(round(parameter_errors[2],6))+'\\n$M_ω$='+str(round(popt[3],6))+'±'+str(round(parameter_errors[3],6))+'\\n$M_φ$='+str(round(popt[4],6))+'±'+str(round(parameter_errors[4],6))+'\\n\\n$χ_{red}^{\\,2}$='+str(round(chi2red,2)), fontsize = 10.7,bbox = dict(facecolor = 'white', alpha = 1))\n",
    "ax.grid(True)\n",
    "\n",
    "\n",
    "# Define the coordinates of the inset area\n",
    "x1, x2, y1, y2 = 1.01, 1.08 ,2 , 4.5\n",
    "# Create an inset axes\n",
    "axins = zoomed_inset_axes(ax, zoom=6.7, loc='upper right')\n",
    "axins.errorbar(svalues, AbsFF2, yerr=FF2err,fmt='.', label='Data',zorder=1)\n",
    "axins.plot(svalues, fitted_curve, label='Fitted Curve', color='red',zorder=2)    # Fitted curve\n",
    "axins.set_xlim(x1, x2)\n",
    "axins.set_ylim(y1, y2)\n",
    "mark_inset(ax, axins, loc1=4, loc2=3, fc=\"none\", ec=\"0.1\")\n",
    "\n",
    "plt.legend(loc='upper left')\n",
    "plt.grid(True)\n",
    "\n",
    "\n",
    "#plt.savefig('CMD3-FF4(original_fit).png',bbox_inches =\"tight\", pad_inches = 0.1, transparent = False, facecolor =\"w\", edgecolor ='w',dpi=150)\n",
    "\n",
    "\n",
    "plt.show()\n",
    "\n"
   ]
  },
  {
   "cell_type": "code",
   "execution_count": 13,
   "id": "62d0f320",
   "metadata": {},
   "outputs": [
    {
     "data": {
      "text/plain": [
       "0.8511358297873924"
      ]
     },
     "execution_count": 13,
     "metadata": {},
     "output_type": "execute_result"
    }
   ],
   "source": [
    "np.sqrt(chi2red)"
   ]
  },
  {
   "cell_type": "markdown",
   "id": "e8bc9b33",
   "metadata": {},
   "source": [
    "## Calculation of α_μ"
   ]
  },
  {
   "cell_type": "code",
   "execution_count": null,
   "id": "4c0a7f90",
   "metadata": {
    "scrolled": true
   },
   "outputs": [],
   "source": [
    "#Redefine the Omnes function and the Form Factor function\n",
    "@np.vectorize\n",
    "def OmegaFunc0(s):\n",
    "    IntResult,err=integrate.quad(lambda x: integrand(x, s), (4 * Mp**2), np.inf)  \n",
    "    return np.exp( s*(IntResult)/np.pi  + ps_func(s)*1j  - np.log(abs((s- 4* Mp**2)/(4*Mp**2)))*ps_func(s)/np.pi   )\n",
    " \n",
    "svaluesTest=np.linspace(0.07,1.44,1500)\n",
    "OmegaFunc= interp1d(svaluesTest, OmegaFunc0(svaluesTest))"
   ]
  },
  {
   "cell_type": "code",
   "execution_count": 15,
   "id": "b263a91d",
   "metadata": {},
   "outputs": [],
   "source": [
    "Mm=0.1056583755\n",
    "alpha=7.2973525693*1e-3\n",
    "\n",
    "Factor=(alpha**2)/(12* np.pi**2)\n",
    "\n",
    "\n",
    "def Bp(s):\n",
    "    return np.sqrt(1- (4* Mp**2)/s)\n",
    "\n",
    "def sigma_m(s):\n",
    "    return np.sqrt(1- (4* Mm**2)/s)\n",
    "\n",
    "def X(s):\n",
    "    return (1-sigma_m(s))/(1+sigma_m(s))\n",
    "\n",
    "def K(s):\n",
    "    return ( ((2-(X(s))**2)*((X(s))**2))/2  + (1+(X(s))**2)*((1+X(s))**2)*(np.log(1+X(s))-X(s)+(((X(s))**2)/2))/(X(s)**2)  + ((1+X(s))*np.log(X(s))*((X(s))**2))/(1-X(s))   )\n",
    " \n",
    "\n",
    "\n",
    "    \n",
    "@np.vectorize\n",
    "def Fp2(s):\n",
    "    return ( (abs((1+popt[0]*s+((popt[1]*s)/(popt[3]**2-s-popt[3]*Γomegatot*1j))+((popt[2]*s)/(popt[4]**2-s-popt[4]*Γphitot*1j))))**2) * (abs(OmegaFunc(s))**2)).real\n",
    "\n",
    "\n",
    "\n",
    "def integrand2(s):\n",
    "    return (Factor*K(s)*Fp2(s)* Bp(s)**3)/(s)\n"
   ]
  },
  {
   "cell_type": "code",
   "execution_count": 16,
   "id": "80bdc2d6",
   "metadata": {},
   "outputs": [
    {
     "name": "stdout",
     "output_type": "stream",
     "text": [
      "α_μ= 3.8525189635360995e-08 (for (0.6**2), 0.88**2 )\n",
      "α_μ= 5.217168132685416e-08 (for (4* Mp**2), 1 )\n"
     ]
    }
   ],
   "source": [
    "AMresult, AMerr=integrate.quad_vec(lambda x: integrand2(x), (0.6**2), 0.88**2) \n",
    "AMresult2, AMerr2=integrate.quad_vec(lambda x: integrand2(x), (4* Mp**2), 1) \n",
    "\n",
    "print('α_μ=',AMresult,'(for (0.6**2), 0.88**2 )')\n",
    "print('α_μ=',AMresult2,'(for (4* Mp**2), 1 )')"
   ]
  },
  {
   "cell_type": "code",
   "execution_count": 17,
   "id": "79388d63",
   "metadata": {},
   "outputs": [
    {
     "name": "stdout",
     "output_type": "stream",
     "text": [
      "α_μ= 5.260900578793375e-08 6.574030858915623e-17 (0.327-1.2)\n"
     ]
    }
   ],
   "source": [
    "AMresultNEW, AMerrNEW=integrate.quad_vec(lambda x:integrand2(x), 0.327**2, 1.2**2) \n",
    "print('α_μ=',AMresultNEW,AMerrNEW, '(0.327-1.2)')"
   ]
  },
  {
   "cell_type": "markdown",
   "id": "9e5bd9d0",
   "metadata": {},
   "source": [
    "## Method 1: α_μ  Error"
   ]
  },
  {
   "cell_type": "code",
   "execution_count": 18,
   "id": "703847c6",
   "metadata": {},
   "outputs": [],
   "source": [
    "def integrand_I(s):\n",
    "    return (Factor*(abs(OmegaFunc(s))**2) *K(s)* Bp(s)**3)/(s)\n",
    "\n",
    "\n",
    "def DERa(s):\n",
    "    a=popt[0]\n",
    "    Ero=popt[1]\n",
    "    Ephi=popt[2]\n",
    "    Momega=popt[3]\n",
    "    Mphi=popt[4]\n",
    "    return 2*s + 2*(s**2)*( a + (Ero*(-s+Momega**2))/(((-s+Momega**2)**2)+ (Momega*Γomegatot)**2) + (Ephi*(-s+Mphi**2))/(((-s+Mphi**2)**2)+ (Mphi*Γphitot)**2)         )\n",
    "\n",
    "def DERero(s):\n",
    "    a=popt[0]\n",
    "    Ero=popt[1]\n",
    "    Ephi=popt[2]\n",
    "    Momega=popt[3]\n",
    "    Mphi=popt[4]\n",
    "    return (s + (s**2)*(a + (Ero)/(-s-Momega*Γomegatot*1j+Momega**2) + (Ephi)/(-s-Mphi*Γphitot*1j+Mphi**2) ))/(-s+Momega*Γomegatot*1j+ Momega**2)  +  (s + (s**2)*(a + (Ero)/(-s+Momega*Γomegatot*1j+Momega**2) + (Ephi)/(-s+Mphi*Γphitot*1j+Mphi**2) ))/(-s-Momega*Γomegatot*1j+ Momega**2)\n",
    "\n",
    "\n",
    "def DERephi(s):\n",
    "    a=popt[0]\n",
    "    Ero=popt[1]\n",
    "    Ephi=popt[2]\n",
    "    Momega=popt[3]\n",
    "    Mphi=popt[4]\n",
    "    return (s + (s**2)*(a + (Ero)/(-s-Momega*Γomegatot*1j+Momega**2) + (Ephi)/(-s-Mphi*Γphitot*1j+Mphi**2) ))/(-s+Mphi*Γphitot*1j+ Mphi**2)  +  (s + (s**2)*(a + (Ero)/(-s+Momega*Γomegatot*1j+Momega**2) + (Ephi)/(-s+Mphi*Γphitot*1j+Mphi**2) ))/(-s-Mphi*Γphitot*1j+ Mphi**2)\n",
    "\n",
    "\n",
    "def DERmomega(s):\n",
    "    a=popt[0]\n",
    "    Ero=popt[1]\n",
    "    Ephi=popt[2]\n",
    "    Momega=popt[3]\n",
    "    Mphi=popt[4]\n",
    "    return (-Ero*s)*( ((2*Momega+Γomegatot*1j)*(1+ s*(a + (Ero)/(-s-Momega*Γomegatot*1j+Momega**2) + (Ephi)/(-s-Mphi*Γphitot*1j+Mphi**2))))/((-s+Momega*Γomegatot*1j+Momega**2)**2)   +   ((2*Momega-Γomegatot*1j)*(1+ s*(a + (Ero)/(-s+Momega*Γomegatot*1j+Momega**2) + (Ephi)/(-s+Mphi*Γphitot*1j+Mphi**2))))/((-s-Momega*Γomegatot*1j+Momega**2)**2)    )\n",
    "\n",
    "\n",
    "\n",
    "def DERmphi(s):\n",
    "    a=popt[0]\n",
    "    Ero=popt[1]\n",
    "    Ephi=popt[2]\n",
    "    Momega=popt[3]\n",
    "    Mphi=popt[4]\n",
    "    return (-Ephi*s)*( ((2*Mphi+Γphitot*1j)*(1+ s*(a + (Ero)/(-s-Momega*Γomegatot*1j+Momega**2) + (Ephi)/(-s-Mphi*Γphitot*1j+Mphi**2))))/((-s+Mphi*Γphitot*1j+Mphi**2)**2)   +   ((2*Mphi-Γphitot*1j)*(1+ s*(a + (Ero)/(-s+Momega*Γomegatot*1j+Momega**2) + (Ephi)/(-s+Mphi*Γphitot*1j+Mphi**2))))/((-s-Mphi*Γphitot*1j+Mphi**2)**2)       )\n",
    "\n",
    "\n",
    "\n",
    "\n"
   ]
  },
  {
   "cell_type": "code",
   "execution_count": 19,
   "id": "08d8b38d",
   "metadata": {},
   "outputs": [],
   "source": [
    "AM0,AM0err=integrate.quad_vec(lambda x: DERa(x)*integrand_I(x), (4* Mp**2), 1) \n",
    "\n",
    "AM1,AM1err=integrate.quad_vec(lambda x: DERero(x)*integrand_I(x), (4* Mp**2), 1)\n",
    "\n",
    "AM2,AM2err=integrate.quad_vec(lambda x: DERephi(x)*integrand_I(x), (4* Mp**2), 1) \n",
    "\n",
    "AM3,AM3err=integrate.quad_vec(lambda x: DERmomega(x)*integrand_I(x), (4* Mp**2), 1) \n",
    "\n",
    "AM4,AM4err=integrate.quad_vec(lambda x: DERmphi(x)*integrand_I(x), (4* Mp**2), 1)"
   ]
  },
  {
   "cell_type": "code",
   "execution_count": 20,
   "id": "7b64cdfe",
   "metadata": {},
   "outputs": [
    {
     "name": "stdout",
     "output_type": "stream",
     "text": [
      "α_μ= 5.217168132685416e-08 (4*Mp^2-1)\n",
      "α_μ(err)=± 4.699436592383295e-11 \n",
      "\n",
      "4.607272648656734e-11\n"
     ]
    }
   ],
   "source": [
    "AM_error= np.sqrt( (AM0*parameter_errors[0])**2   +(AM1*parameter_errors[1])**2  +(AM2*parameter_errors[2])**2 +(AM3*parameter_errors[3])**2 +(AM4*parameter_errors[4])**2     )\n",
    "print('α_μ=',AMresult2, '(4*Mp^2-1)\\nα_μ(err)=±',AM_error.real,'\\n')\n",
    "\n",
    "AM_errorCOR= np.sqrt( (AM0*parameter_errors[0])**2   +(AM1*parameter_errors[1])**2  +(AM2*parameter_errors[2])**2 +(AM3*parameter_errors[3])**2 +(AM4*parameter_errors[4])**2 + 2*AM0*AM1*pcov[0][1] + 2*AM0*AM2*pcov[0][2] + 2*AM0*AM3*pcov[0][3] + 2*AM0*AM4*pcov[0][4]  + 2*AM1*AM2*pcov[1][2] + 2*AM1*AM3*pcov[1][3] + 2*AM1*AM4*pcov[1][4] +2*AM2*AM3*pcov[2][3] +2*AM2*AM4*pcov[2][4] + 2*AM3*AM4*pcov[3][4]     )\n",
    "print(AM_errorCOR.real)"
   ]
  },
  {
   "cell_type": "code",
   "execution_count": 21,
   "id": "57d8431b",
   "metadata": {},
   "outputs": [],
   "source": [
    "##0.6**2,0.88**2\n",
    "\n",
    "AMb0,AMb0err=integrate.quad_vec(lambda x: DERa(x)*integrand_I(x), 0.6**2,0.88**2) \n",
    "\n",
    "AMb1,AMb1err=integrate.quad_vec(lambda x: DERero(x)*integrand_I(x), 0.6**2,0.88**2)\n",
    "\n",
    "AMb2,AMb2err=integrate.quad_vec(lambda x: DERephi(x)*integrand_I(x), 0.6**2,0.88**2) \n",
    "\n",
    "AMb3,AMb3err=integrate.quad_vec(lambda x: DERmomega(x)*integrand_I(x), 0.6**2,0.88**2) \n",
    "\n",
    "AMb4,AMb4err=integrate.quad_vec(lambda x: DERmphi(x)*integrand_I(x), 0.6**2,0.88**2)\n"
   ]
  },
  {
   "cell_type": "code",
   "execution_count": 22,
   "id": "e43cb577",
   "metadata": {},
   "outputs": [
    {
     "name": "stdout",
     "output_type": "stream",
     "text": [
      "α_μ= 3.8525189635360995e-08 (0.6-0.88)\n",
      "α_μ(err)=± 3.842705543277996e-11 \n",
      "\n",
      "3.768082461060558e-11\n"
     ]
    }
   ],
   "source": [
    "AMb_error= np.sqrt( (AMb0*parameter_errors[0])**2   +(AMb1*parameter_errors[1])**2  +(AMb2*parameter_errors[2])**2 +(AMb3*parameter_errors[3])**2 +(AMb4*parameter_errors[4])**2     )\n",
    "print('α_μ=', AMresult, '(0.6-0.88)\\nα_μ(err)=±',AMb_error.real,'\\n')\n",
    "\n",
    "AMb_errorCOR= np.sqrt( (AMb0*parameter_errors[0])**2   +(AMb1*parameter_errors[1])**2  +(AMb2*parameter_errors[2])**2 +(AMb3*parameter_errors[3])**2 +(AMb4*parameter_errors[4])**2 + 2*AMb0*AMb1*pcov[0][1] + 2*AMb0*AMb2*pcov[0][2] + 2*AMb0*AMb3*pcov[0][3] + 2*AMb0*AMb4*pcov[0][4]  + 2*AMb1*AMb2*pcov[1][2] + 2*AMb1*AMb3*pcov[1][3] + 2*AMb1*AMb4*pcov[1][4] +2*AMb2*AMb3*pcov[2][3] +2*AMb2*AMb4*pcov[2][4] + 2*AMb3*AMb4*pcov[3][4]     )\n",
    "print(AMb_errorCOR.real)"
   ]
  },
  {
   "cell_type": "code",
   "execution_count": 23,
   "id": "159971a6",
   "metadata": {},
   "outputs": [],
   "source": [
    "#0.327**2, 1.2**2\n",
    "\n",
    "AMnew0,AMnew0err=integrate.quad_vec(lambda x: DERa(x)*integrand_I(x), 0.327**2, 1.2**2) \n",
    "\n",
    "AMnew1,AMnew1err=integrate.quad_vec(lambda x: DERero(x)*integrand_I(x), 0.327**2, 1.2**2)\n",
    "\n",
    "AMnew2,AMnew2err=integrate.quad_vec(lambda x: DERephi(x)*integrand_I(x), 0.327**2, 1.2**2) \n",
    "\n",
    "AMnew3,AMnew3err=integrate.quad_vec(lambda x: DERmomega(x)*integrand_I(x), 0.327**2, 1.2**2) \n",
    "\n",
    "AMnew4,AMbnewerr=integrate.quad_vec(lambda x: DERmphi(x)*integrand_I(x), 0.327**2, 1.2**2)"
   ]
  },
  {
   "cell_type": "code",
   "execution_count": 24,
   "id": "aa8a8918",
   "metadata": {},
   "outputs": [
    {
     "name": "stdout",
     "output_type": "stream",
     "text": [
      "α_μ= 5.260900578793375e-08 (0.327-1.2)\n",
      "α_μ(err)=± 4.8402077977066004e-11\n",
      "4.752566468950864e-11\n"
     ]
    }
   ],
   "source": [
    "AMnew_error= np.sqrt( (AMnew0*parameter_errors[0])**2   +(AMnew1*parameter_errors[1])**2  +(AMnew2*parameter_errors[2])**2 +(AMnew3*parameter_errors[3])**2 +(AMnew4*parameter_errors[4])**2     )\n",
    "\n",
    "\n",
    "print('α_μ=', AMresultNEW, '(0.327-1.2)\\nα_μ(err)=±',AMnew_error.real)\n",
    "\n",
    "\n",
    "AMnew_errorCOR= np.sqrt( (AMnew0*parameter_errors[0])**2   +(AMnew1*parameter_errors[1])**2  +(AMnew2*parameter_errors[2])**2 +(AMnew3*parameter_errors[3])**2 +(AMnew4*parameter_errors[4])**2 + 2*AMnew0*AMnew1*pcov[0][1] + 2*AMnew0*AMnew2*pcov[0][2] + 2*AMnew0*AMnew3*pcov[0][3] + 2*AMnew0*AMnew4*pcov[0][4]  + 2*AMnew1*AMnew2*pcov[1][2] + 2*AMnew1*AMnew3*pcov[1][3] + 2*AMnew1*AMnew4*pcov[1][4] +2*AMnew2*AMnew3*pcov[2][3] +2*AMnew2*AMnew4*pcov[2][4] + 2*AMnew3*AMnew4*pcov[3][4]     )\n",
    "print(AMnew_errorCOR.real)"
   ]
  },
  {
   "cell_type": "markdown",
   "id": "de69104b",
   "metadata": {},
   "source": [
    "# Partial Decay Width"
   ]
  },
  {
   "cell_type": "code",
   "execution_count": 25,
   "id": "54b81b62",
   "metadata": {},
   "outputs": [],
   "source": [
    "#Values from PDG\n",
    "Mp=0.13957\n",
    "Mo=popt[3]\n",
    "Mf=popt[4]\n",
    "\n",
    "errMo=parameter_errors[3]\n",
    "errMf=parameter_errors[4]\n",
    "\n",
    "Bo_e=0.6e-6 #in GeV\n",
    "Bf_e=1.27e-6\n",
    "\n",
    "errBo_e=0.02e-6\n",
    "errBf_e=0.04e-6\n",
    "\n",
    "aem=1/137.036\n"
   ]
  },
  {
   "cell_type": "markdown",
   "id": "4b6d195e",
   "metadata": {},
   "source": [
    "#### g_γω / g_γφ coupling calculation"
   ]
  },
  {
   "cell_type": "code",
   "execution_count": 26,
   "id": "8de47f5d",
   "metadata": {},
   "outputs": [
    {
     "name": "stdout",
     "output_type": "stream",
     "text": [
      "g_(γω)= 0.058642883904955284  error=  0.00097738381036983 \n",
      "\n",
      "g_(γφ)= 0.07470799179616414  error=  0.0011765136629198866 \n",
      "\n"
     ]
    }
   ],
   "source": [
    "g_go= np.sqrt((3*Bo_e)/(4*np.pi*Mo* aem**2))\n",
    "\n",
    "g_gf= np.sqrt((3*Bf_e)/(4*np.pi*Mf* aem**2))\n",
    "\n",
    "\n",
    "errg_go=np.sqrt(3/(4*np.pi*aem**2))*np.sqrt((errBo_e**2)/(4*Bo_e*Mo) +  (Bo_e* errMo**2)/(4* Mo**3))\n",
    "errg_gf=np.sqrt(3/(4*np.pi*aem**2))*np.sqrt((errBf_e**2)/(4*Bf_e* Mf) +  (Bf_e* errMf**2)/(4* Mf**3))\n",
    "\n",
    "\n",
    "print('g_(γω)=',g_go,' error= ', errg_go,'\\n')\n",
    "print('g_(γφ)=',g_gf,' error= ', errg_gf,'\\n')"
   ]
  },
  {
   "cell_type": "code",
   "execution_count": 27,
   "id": "fcf5225e",
   "metadata": {},
   "outputs": [
    {
     "name": "stdout",
     "output_type": "stream",
     "text": [
      "g_(ωππ)= 0.03078003833659469  error= 0.000665182680305257 \n",
      "\n",
      "g_(φππ)= 0.006226856215351125  error= 0.00047624126750229134\n"
     ]
    }
   ],
   "source": [
    "# Calculation of ω->ππ coupling\n",
    "k1=popt[1]\n",
    "err_k1=parameter_errors[1]\n",
    "\n",
    "g_opp=k1/g_go\n",
    "\n",
    "err_g_opp=np.sqrt( (err_k1/g_go)**2  + (k1* errg_go / (g_go**2))**2   )\n",
    "\n",
    "print('g_(ωππ)=',g_opp   ,' error=',err_g_opp ,'\\n' )\n",
    "\n",
    "\n",
    "\n",
    "# Calculation of φ->ππ coupling\n",
    "k2=popt[2]\n",
    "err_k2=parameter_errors[2]\n",
    "\n",
    "g_fpp=abs(k2/g_gf)\n",
    "\n",
    "err_g_fpp=np.sqrt( (err_k2/g_gf)**2  + (k2* errg_gf / (g_gf**2))**2   )\n",
    "\n",
    "print('g_(φππ)=',g_fpp   ,' error=',err_g_fpp )"
   ]
  },
  {
   "cell_type": "code",
   "execution_count": 28,
   "id": "c185a35c",
   "metadata": {},
   "outputs": [
    {
     "name": "stdout",
     "output_type": "stream",
     "text": [
      "g_(ωππ)= 0.03078003833659469  error= 0.000665182680305257 \n",
      "\n",
      "g_(φππ)= 0.006226856215351125  error= 0.00047624126750229134\n"
     ]
    }
   ],
   "source": [
    "# Calculation of ω->ππ coupling\n",
    "#k1=Ero,  k2=Ephi\n",
    "k1=popt[1]\n",
    "err_k1=parameter_errors[1]\n",
    "\n",
    "g_opp=k1/g_go\n",
    "\n",
    "err_g_opp=np.sqrt( (err_k1/g_go)**2  + (k1* errg_go / (g_go**2))**2   )\n",
    "\n",
    "print('g_(ωππ)=',g_opp   ,' error=',err_g_opp ,'\\n' )\n",
    "\n",
    "\n",
    "\n",
    "# Calculation of φ->ππ coupling\n",
    "k2=popt[2]\n",
    "err_k2=parameter_errors[2]\n",
    "\n",
    "g_fpp=abs(k2/g_gf)\n",
    "\n",
    "err_g_fpp=np.sqrt( (err_k2/g_gf)**2  + (k2* errg_gf / (g_gf**2))**2   )\n",
    "\n",
    "print('g_(φππ)=',g_fpp   ,' error=',err_g_fpp )"
   ]
  },
  {
   "cell_type": "markdown",
   "id": "901e3492",
   "metadata": {},
   "source": [
    "#### Γ( ..->ππ) calculation"
   ]
  },
  {
   "cell_type": "code",
   "execution_count": 29,
   "id": "73451208",
   "metadata": {},
   "outputs": [
    {
     "name": "stdout",
     "output_type": "stream",
     "text": [
      "Γ(ω->ππ)= 0.00013575272971999902  error=  5.8674627774290376e-06\n",
      "Γ(ω->ππ)/Γtot= 0.015989720815076446  error=  0.0006911028006394627\n",
      "(Γ(ω->ππ)/Γtot)x(Γ(ω->ee)/Γtot) = 1.130015605305756e-06  error=  6.167883384076473e-08\n"
     ]
    }
   ],
   "source": [
    "#For ω->ππ\n",
    "B_opp=((g_opp**2)* ((Mo**2 - 4* Mp**2)**(3/2)) * abs(OmegaFunc(Mo**2))**2 )/(48*np.pi* Mo**2)\n",
    "\n",
    "err_B_opp=((err_g_opp) *2*g_opp* ((Mo**2 - 4* Mp**2)**(3/2)) * abs(OmegaFunc(Mo**2))**2    )/(48*np.pi* Mo**2)\n",
    "\n",
    "print('Γ(ω->ππ)=', B_opp, ' error= ', err_B_opp )\n",
    "print('Γ(ω->ππ)/Γtot=', B_opp/Γomegatot,' error= ', err_B_opp/Γomegatot )\n",
    "print( '(Γ(ω->ππ)/Γtot)x(Γ(ω->ee)/Γtot) =', (B_opp/Γomegatot)*(Bo_e/Γomegatot), ' error= ', np.sqrt((B_opp*errBo_e)**2 +(Bo_e*err_B_opp)**2  )/(Γomegatot**2))\n",
    "\n"
   ]
  },
  {
   "cell_type": "code",
   "execution_count": 30,
   "id": "ec28f445",
   "metadata": {},
   "outputs": [
    {
     "name": "stdout",
     "output_type": "stream",
     "text": [
      "Γ(φ->ππ)= 5.162837954480839e-07  error=  7.897264386125691e-08\n",
      "Γ(φ->ππ)/Γtot= 0.000121507130018377  error=  1.8586171772477503e-05\n",
      "(Γ(φ->ππ)/Γtot)x(Γ(φ->ee)/Γtot) = 3.6317734790147984e-08  error=  5.671834293046338e-09\n"
     ]
    }
   ],
   "source": [
    "#For φ->ππ\n",
    "B_fpp=((g_fpp**2)* ((Mf**2 - 4* Mp**2)**(3/2)) * abs(OmegaFunc(Mf**2))**2 )/(48*np.pi* (Mf**2))\n",
    "\n",
    "err_B_fpp=((err_g_fpp) *2*g_fpp* ((Mf**2 - 4* Mp**2)**(3/2)) * abs(OmegaFunc(Mf**2))**2    )/(48*np.pi* (Mf**2))\n",
    "\n",
    "print('Γ(φ->ππ)=', B_fpp, ' error= ', err_B_fpp )\n",
    "print('Γ(φ->ππ)/Γtot=', B_fpp/Γphitot,' error= ', err_B_fpp/Γphitot )\n",
    "print( '(Γ(φ->ππ)/Γtot)x(Γ(φ->ee)/Γtot) =', (B_fpp/Γphitot)*(Bf_e/Γphitot), ' error= ', np.sqrt((B_fpp*errBf_e)**2 +(Bf_e*err_B_fpp)**2  )/(Γphitot**2)     )"
   ]
  }
 ],
 "metadata": {
  "kernelspec": {
   "display_name": "Python 3 (ipykernel)",
   "language": "python",
   "name": "python3"
  },
  "language_info": {
   "codemirror_mode": {
    "name": "ipython",
    "version": 3
   },
   "file_extension": ".py",
   "mimetype": "text/x-python",
   "name": "python",
   "nbconvert_exporter": "python",
   "pygments_lexer": "ipython3",
   "version": "3.9.6"
  }
 },
 "nbformat": 4,
 "nbformat_minor": 5
}
