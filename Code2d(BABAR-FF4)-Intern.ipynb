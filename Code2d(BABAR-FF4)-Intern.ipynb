{
 "cells": [
  {
   "cell_type": "code",
   "execution_count": 2,
   "id": "fe265c0c",
   "metadata": {},
   "outputs": [],
   "source": [
    "import pandas as pd\n",
    "import numpy as np\n",
    "import math\n",
    "from sympy import *\n",
    "import matplotlib.pyplot as plt\n",
    "%matplotlib inline \n",
    "from mpl_toolkits.axes_grid1.inset_locator import zoomed_inset_axes, mark_inset\n",
    "\n",
    "from numpy import log as ln\n",
    "from scipy.stats import expon\n",
    "from scipy.stats import norm\n",
    "from scipy.optimize import curve_fit\n",
    "import array as arr\n",
    "\n",
    "\n",
    "from scipy.optimize import minimize_scalar\n",
    "from scipy.integrate import quad\n",
    "from scipy import integrate\n",
    "from scipy.interpolate import interp1d\n",
    "\n",
    "\n",
    "\n",
    "\n",
    "Mp=0.13957\n",
    "\n",
    "Γomegatot=0.00849\n",
    "Γphitot=0.004249\n",
    "\n",
    "Mm=0.1056583755\n",
    "alpha=7.2973525693*1e-3"
   ]
  },
  {
   "cell_type": "markdown",
   "id": "b95eeedf",
   "metadata": {},
   "source": [
    "## Import δ(s)-data/ Define the δ(s)"
   ]
  },
  {
   "cell_type": "code",
   "execution_count": 3,
   "id": "3a94fb96",
   "metadata": {},
   "outputs": [
    {
     "name": "stdout",
     "output_type": "stream",
     "text": [
      "7124 7124 <class 'list'>\n"
     ]
    }
   ],
   "source": [
    "#Bern phase shirft data\n",
    "sdata_list = []\n",
    "ps_list = []\n",
    "\n",
    "with open('phase_pipi_1.dat', 'r') as file:\n",
    "    lines = file.readlines()\n",
    "    for line in lines:\n",
    "        values = line.strip().split('\\t')  # Split the line into values using tab as delimiter\n",
    "        if len(values) >= 2:\n",
    "            sdata_list.append(float(values[0]))\n",
    "            ps_list.append(float(values[1]))\n",
    "            \n",
    "print(len(sdata_list), len(ps_list),type(sdata_list))\n",
    "\n",
    "ps=np.array(ps_list)\n",
    "\n",
    "sdata= (np.array(sdata_list)*(Mp**2))\n",
    "\n",
    "\n",
    "\n",
    "\n",
    "#Definition in δ(s)\n",
    "int_ps= interp1d(sdata, ps)\n",
    "λ0=10\n",
    "\n",
    "def high_ps(s):\n",
    "    return np.pi+(int_ps(sdata[len(sdata)-1])-np.pi)*((λ0**2 + sdata[len(sdata)-1])/(λ0**2 + s))\n",
    "\n",
    "\n",
    "def ps_func(x):\n",
    "    return np.piecewise(x, [(x>=4* Mp**2) & ( x <= 25), x>=25], [lambda x: int_ps(x), lambda x: high_ps(x)])\n"
   ]
  },
  {
   "cell_type": "markdown",
   "id": "1853c89c",
   "metadata": {},
   "source": [
    "## Defined funcs for PV-value calculations"
   ]
  },
  {
   "cell_type": "code",
   "execution_count": 4,
   "id": "fc5afb48",
   "metadata": {},
   "outputs": [],
   "source": [
    "def integrand(x, s):\n",
    "    return (float(ps_func(x))- ps_func(s)) / (x * (x - s))"
   ]
  },
  {
   "cell_type": "markdown",
   "id": "8b60570b",
   "metadata": {},
   "source": [
    "## Import BaBar data"
   ]
  },
  {
   "cell_type": "code",
   "execution_count": 5,
   "id": "7a96a26d",
   "metadata": {},
   "outputs": [
    {
     "data": {
      "image/png": "[encoded data removed]",
      "text/plain": [
       "<Figure size 432x288 with 1 Axes>"
      ]
     },
     "metadata": {
      "needs_background": "light"
     },
     "output_type": "display_data"
    }
   ],
   "source": [
    "#Upload the data\n",
    "AbsFF2_list0= []\n",
    "svalues_list0=[]\n",
    "FF2err_list0=[]\n",
    "\n",
    "\n",
    "with open('FF_BABAR2009.txt', 'r') as file:\n",
    "    lines = file.readlines()\n",
    "    for line in lines:\n",
    "        values = line.strip().split('\\t')  \n",
    "        if len(values) >= 2:\n",
    "            svalues_list0.append(float(values[0]))\n",
    "            AbsFF2_list0.append(float(values[1]))\n",
    "            FF2err_list0.append(float(values[2]))\n",
    "            \n",
    "\n",
    "#Putting the values into np.arrays that are easier to mathematically use in code             \n",
    "AbsFF2_0=np.array(AbsFF2_list0)\n",
    "svalues_0=np.array(svalues_list0)\n",
    "FF2err_0=np.array(FF2err_list0)\n",
    "\n",
    "plt.plot(svalues_0,AbsFF2_0) #Checking the form of the data\n",
    "\n",
    "plt.show()"
   ]
  },
  {
   "cell_type": "code",
   "execution_count": 6,
   "id": "3a752806",
   "metadata": {},
   "outputs": [
    {
     "name": "stdout",
     "output_type": "stream",
     "text": [
      "279 1095.01141546561\n"
     ]
    },
    {
     "data": {
      "image/png": "[encoded data removed]",
      "text/plain": [
       "<Figure size 432x288 with 1 Axes>"
      ]
     },
     "metadata": {
      "needs_background": "light"
     },
     "output_type": "display_data"
    }
   ],
   "source": [
    "svalues=[]\n",
    "AbsFF2=[]\n",
    "FF2err=[]\n",
    "\n",
    "for i in range(0,len(svalues_0)):\n",
    "    #if svalues_1[i]<600:\n",
    "    #    continue     \n",
    "        \n",
    "    \n",
    "    if (svalues_0[i]/1000)**2<=1.2:\n",
    "        \n",
    "        svalues.append(svalues_0[i])\n",
    "        AbsFF2.append(AbsFF2_0[i])\n",
    "        FF2err.append(FF2err_0[i])\n",
    "\n",
    "        \n",
    "        \n",
    "\n",
    "    if (svalues_0[i]/1000)**2>=1.2:\n",
    "        print(i,svalues_0[i-1])\n",
    "        Sstop=i\n",
    "        break\n",
    "\n",
    "\n",
    "svalues=(np.array(svalues)/1000)**2\n",
    "AbsFF2=np.array(AbsFF2)\n",
    "FF2err=np.array(FF2err)        \n",
    "\n",
    "plt.plot(svalues,AbsFF2) #Checking the form of the data\n",
    "\n",
    "plt.show()\n",
    "\n",
    "\n",
    "\n",
    "##Encrease the importance of φ-mixing from errors\n",
    "\n",
    "#FF2errTEST=[]\n",
    "#for i in range(0,len(svalues)):\n",
    "       \n",
    "#    if svalues[i]<1.:\n",
    "#        FF2errTEST.append(FF2err[i])\n",
    "        \n",
    "    \n",
    "#    if 1.<=svalues[i]<=1.08:\n",
    "#        FF2errTEST.append(FF2err[i])\n",
    "   \n",
    "#    if svalues[i]>=1.08:\n",
    "#        FF2errTEST.append(FF2err[i])\n",
    "\n",
    "#FF2errTEST=np.array(FF2errTEST)\n"
   ]
  },
  {
   "cell_type": "code",
   "execution_count": null,
   "id": "0ff63ce4",
   "metadata": {},
   "outputs": [],
   "source": [
    "#Solve the PV-integral values for the s-values from the SPECIFIC data sets we want\n",
    "PVresultsData = []\n",
    "\n",
    "\n",
    "#PVresults1= []\n",
    "\n",
    "#for i in svalues:\n",
    "#    result = principal_value_integral(i)\n",
    "#    PVresults1.append(result)\n",
    "\n",
    "\n",
    "for i in svalues:\n",
    "    result, error=integrate.quad(lambda x: integrand(x, i), 4 * Mp**2, np.inf) \n",
    "    PVresultsData.append(result)\n",
    "\n",
    "\n",
    "OmegaData=[]\n",
    "\n",
    "OmegaData=np.exp( ((svalues*PVresultsData)/ np.pi) + ps_func(svalues)*1j  - np.log(abs((svalues- 4* Mp**2)/(4*Mp**2))  )*ps_func(svalues)/np.pi   )\n",
    "\n",
    "ReOmegaData= OmegaData.real\n",
    "ImOmegaData = OmegaData.imag\n",
    "AbsOmegaData = abs(OmegaData)   \n",
    "    "
   ]
  },
  {
   "cell_type": "code",
   "execution_count": 8,
   "id": "afd90a15",
   "metadata": {},
   "outputs": [],
   "source": [
    "def FFfunc(s,a,Ero,Ephi,Momega,Mphi):\n",
    "    return (1+a*s+((Ero*s)/(Momega**2-s-Momega*Γomegatot*1j))+((Ephi*s)/(Mphi**2-s-Mphi*Γphitot*1j)))*OmegaData\n",
    "\n",
    "\n",
    "\n",
    "def AbsFF2func(s,a,Ero,Ephi,Momega,Mphi):\n",
    "    return (  (abs((1+a* s+((Ero* s)/(Momega**2-s-Momega*Γomegatot*1j))+((Ephi*s)/(Mphi**2-s-Mphi*Γphitot*1j))))**2) *  (AbsOmegaData**2)).real\n",
    "\n"
   ]
  },
  {
   "cell_type": "markdown",
   "id": "2970646d",
   "metadata": {},
   "source": [
    "#  Final error-weighted fit"
   ]
  },
  {
   "cell_type": "code",
   "execution_count": 9,
   "id": "61f5bf80",
   "metadata": {},
   "outputs": [
    {
     "name": "stdout",
     "output_type": "stream",
     "text": [
      "[7.20011334e-02 2.04557710e-03 6.57398733e-04 7.81831611e-01\n",
      " 1.02439340e+00]\n",
      "[9.96031314e-04 3.55698863e-05 1.70166829e-04 1.04356636e-04\n",
      " 2.48672706e-04]\n"
     ]
    }
   ],
   "source": [
    "p0 = [0.9, 0.004, 0.3, 0.78, 1.02]\n",
    "popt, pcov = curve_fit(AbsFF2func, svalues, AbsFF2, p0=p0, sigma=FF2err, absolute_sigma=True)\n",
    "parameter_errors = np.sqrt(np.diag(pcov))\n",
    "\n",
    "print(popt)\n",
    "print(parameter_errors)"
   ]
  },
  {
   "cell_type": "code",
   "execution_count": 10,
   "id": "2c363807",
   "metadata": {},
   "outputs": [
    {
     "data": {
      "text/plain": [
       "array([[ 9.92078378e-07, -1.74731234e-11, -9.00359606e-08,\n",
       "        -7.43655263e-10, -6.25215252e-08],\n",
       "       [-1.74731234e-11,  1.26521681e-09,  3.16928236e-10,\n",
       "        -2.60157579e-10,  2.09695705e-10],\n",
       "       [-9.00359606e-08,  3.16928236e-10,  2.89567498e-08,\n",
       "        -2.03808628e-11,  1.70995595e-08],\n",
       "       [-7.43655263e-10, -2.60157579e-10, -2.03808628e-11,\n",
       "         1.08903075e-08, -6.28033506e-12],\n",
       "       [-6.25215252e-08,  2.09695705e-10,  1.70995595e-08,\n",
       "        -6.28033506e-12,  6.18381148e-08]])"
      ]
     },
     "execution_count": 10,
     "metadata": {},
     "output_type": "execute_result"
    }
   ],
   "source": [
    "pcov"
   ]
  },
  {
   "cell_type": "code",
   "execution_count": 11,
   "id": "a5a366fb",
   "metadata": {},
   "outputs": [
    {
     "data": {
      "image/png": "[encoded data removed]",
      "text/plain": [
       "<Figure size 720x432 with 2 Axes>"
      ]
     },
     "metadata": {
      "needs_background": "light"
     },
     "output_type": "display_data"
    }
   ],
   "source": [
    "fitted_curve = AbsFF2func(svalues, *popt)\n",
    "\n",
    "\n",
    "######################\n",
    "\n",
    "chi2=np.sum(((AbsFF2 - AbsFF2func(svalues, *popt))/FF2err)**2)\n",
    "Ndof=len(svalues)-len(popt)\n",
    "\n",
    "chi2red=chi2/Ndof\n",
    "\n",
    "############################\n",
    "\n",
    "#%matplotlib notebook\n",
    "fig, ax = plt.subplots(figsize=(10, 6))\n",
    "\n",
    "ax.errorbar(svalues, AbsFF2, yerr=FF2err, fmt='.', label='Data',zorder=1) \n",
    "ax.plot(svalues, fitted_curve, label='Fitted Curve', color='red',zorder=2)    # Fitted curve\n",
    "\n",
    "ax.tick_params(axis='both', direction='in', length=6, color='k')\n",
    "ax.set_xlabel('s $(GeV^{\\,2})$')\n",
    "ax.set_ylabel('$| F(s) |^{\\,2}$')\n",
    "ax.set_title('Form Factor function fitting (BaBar Data)-FF4')\n",
    "ax.text(0.1, 31, 'α='+str(round(popt[0],6))+'±'+str(round(parameter_errors[0],6))+'\\n$ε_{ρω}$='+str(round(popt[1],6))+'±'+str(round(parameter_errors[1],6))+'\\n$ε_φ$='+str(round(popt[2],6))+'±'+str(round(parameter_errors[2],6))+'\\n$M_ω$='+str(round(popt[3],6))+'±'+str(round(parameter_errors[3],6))+'\\n$M_φ$='+str(round(popt[4],6))+'±'+str(round(parameter_errors[4],6))+'\\n\\n$χ_{red}^{\\,2}$='+str(round(chi2red,2)), fontsize = 10.7,bbox = dict(facecolor = 'white', alpha = 1))\n",
    "ax.grid(True)\n",
    "\n",
    "# Define the coordinates of the inset area\n",
    "x1, x2, y1, y2 = 1.01, 1.08 ,2 , 4.5\n",
    "# Create an inset axes\n",
    "axins = zoomed_inset_axes(ax, zoom=6.7, loc='upper right')\n",
    "axins.errorbar(svalues, AbsFF2, yerr=FF2err,fmt='.', label='Data',zorder=1)\n",
    "axins.plot(svalues, fitted_curve, label='Fitted Curve', color='red',zorder=2)    # Fitted curve\n",
    "axins.set_xlim(x1, x2)\n",
    "axins.set_ylim(y1, y2)\n",
    "mark_inset(ax, axins, loc1=4, loc2=3, fc=\"none\", ec=\"0.1\")\n",
    "\n",
    "plt.legend(loc='upper left')\n",
    "plt.grid(True)\n",
    "\n",
    "#plt.savefig('BaBar-FF4(original_fit).png',bbox_inches =\"tight\",pad_inches = 0.1,transparent = False,facecolor =\"w\",edgecolor ='w',dpi=150)\n",
    "\n",
    "plt.show()"
   ]
  },
  {
   "cell_type": "markdown",
   "id": "859b3a0f",
   "metadata": {},
   "source": [
    "## Calculation of α_μ"
   ]
  },
  {
   "cell_type": "code",
   "execution_count": null,
   "id": "08ec2284",
   "metadata": {
    "scrolled": true
   },
   "outputs": [],
   "source": [
    "#Redefine the Omnes function and the Form Factor function\n",
    "@np.vectorize\n",
    "def OmegaFunc0(s):\n",
    "    IntResult,err=integrate.quad(lambda x: integrand(x, s), (4 * Mp**2), np.inf)  \n",
    "    return np.exp( s*(IntResult)/np.pi  + ps_func(s)*1j  - np.log(abs((s- 4* Mp**2)/(4*Mp**2)))*ps_func(s)/np.pi   )\n",
    " \n",
    "svaluesTest=np.linspace(0.07,1.44,1500)\n",
    "OmegaFunc= interp1d(svaluesTest, OmegaFunc0(svaluesTest))\n",
    "    "
   ]
  },
  {
   "cell_type": "code",
   "execution_count": 13,
   "id": "0982a83f",
   "metadata": {},
   "outputs": [],
   "source": [
    "Mm=0.1056583755\n",
    "alpha=7.2973525693*1e-3\n",
    "\n",
    "Factor=(alpha**2)/(12* np.pi**2)\n",
    "\n",
    "\n",
    "def Bp(s):\n",
    "    return np.sqrt(1- (4* Mp**2)/s)\n",
    "\n",
    "def sigma_m(s):\n",
    "    return np.sqrt(1- (4* Mm**2)/s)\n",
    "\n",
    "def X(s):\n",
    "    return (1-sigma_m(s))/(1+sigma_m(s))\n",
    "\n",
    "def K(s):\n",
    "    return ( ((2-(X(s))**2)*((X(s))**2))/2  + (1+(X(s))**2)*((1+X(s))**2)*(np.log(1+X(s))-X(s)+(((X(s))**2)/2))/(X(s)**2)  + ((1+X(s))*np.log(X(s))*((X(s))**2))/(1-X(s))   )\n",
    " \n",
    "\n",
    "  \n",
    "@np.vectorize\n",
    "def Fp2(s):\n",
    "    return ( (abs((1+popt[0]*s+((popt[1]*s)/(popt[3]**2-s-popt[3]*Γomegatot*1j))+((popt[2]*s)/(popt[4]**2-s-popt[4]*Γphitot*1j))))**2) * (abs(OmegaFunc(s))**2)).real\n",
    "\n",
    "\n",
    "\n",
    "def integrand2(s):\n",
    "    return (Factor* K(s)*Fp2(s)* Bp(s)**3)/(s)\n"
   ]
  },
  {
   "cell_type": "code",
   "execution_count": 14,
   "id": "35c11451",
   "metadata": {},
   "outputs": [
    {
     "name": "stdout",
     "output_type": "stream",
     "text": [
      "α_μ= 5.0551698610596715e-08 (for (4* Mp**2), 1 )\n"
     ]
    }
   ],
   "source": [
    "AMresult, AMerr=integrate.quad_vec(lambda x: integrand2(x), (4* Mp**2), 1) \n",
    "\n",
    "print('α_μ=',AMresult,'(for (4* Mp**2), 1 )')"
   ]
  },
  {
   "cell_type": "code",
   "execution_count": 15,
   "id": "d056620a",
   "metadata": {},
   "outputs": [
    {
     "name": "stdout",
     "output_type": "stream",
     "text": [
      "α_μ= 3.720556440407797e-08 4.636152777585866e-17 (0.6-0.88)\n"
     ]
    }
   ],
   "source": [
    "AMresultTRY, AMerrTRY=integrate.quad_vec(lambda x: integrand2(x), 0.6**2,0.88**2) \n",
    "print('α_μ=',AMresultTRY,AMerrTRY, '(0.6-0.88)')\n"
   ]
  },
  {
   "cell_type": "code",
   "execution_count": 16,
   "id": "90f38edc",
   "metadata": {},
   "outputs": [
    {
     "name": "stdout",
     "output_type": "stream",
     "text": [
      "α_μ= 5.092684482725697e-08 (for 0.327**2, 1.2**2 )\n"
     ]
    }
   ],
   "source": [
    "AMresultNEW, AMerrNEW=integrate.quad_vec(lambda x: integrand2(x),0.327**2, 1.2**2) \n",
    "\n",
    "print('α_μ=',AMresultNEW,'(for 0.327**2, 1.2**2 )')"
   ]
  },
  {
   "cell_type": "markdown",
   "id": "77f7ed32",
   "metadata": {},
   "source": [
    "## Method 1: α_μ  Error"
   ]
  },
  {
   "cell_type": "code",
   "execution_count": 17,
   "id": "14e4b815",
   "metadata": {},
   "outputs": [],
   "source": [
    "def integrand_I(s):\n",
    "    return (Factor*(abs(OmegaFunc(s))**2) *K(s)* Bp(s)**3)/(s)\n",
    "\n",
    "\n",
    "def DERa(s):\n",
    "    a=popt[0]\n",
    "    Ero=popt[1]\n",
    "    Ephi=popt[2]\n",
    "    Momega=popt[3]\n",
    "    Mphi=popt[4]\n",
    "    return 2*s + 2*(s**2)*( a + (Ero*(-s+Momega**2))/(((-s+Momega**2)**2)+ (Momega*Γomegatot)**2) + (Ephi*(-s+Mphi**2))/(((-s+Mphi**2)**2)+ (Mphi*Γphitot)**2)         )\n",
    "\n",
    "def DERero(s):\n",
    "    a=popt[0]\n",
    "    Ero=popt[1]\n",
    "    Ephi=popt[2]\n",
    "    Momega=popt[3]\n",
    "    Mphi=popt[4]\n",
    "    return (s + (s**2)*(a + (Ero)/(-s-Momega*Γomegatot*1j+Momega**2) + (Ephi)/(-s-Mphi*Γphitot*1j+Mphi**2) ))/(-s+Momega*Γomegatot*1j+ Momega**2)  +  (s + (s**2)*(a + (Ero)/(-s+Momega*Γomegatot*1j+Momega**2) + (Ephi)/(-s+Mphi*Γphitot*1j+Mphi**2) ))/(-s-Momega*Γomegatot*1j+ Momega**2)\n",
    "\n",
    "\n",
    "def DERephi(s):\n",
    "    a=popt[0]\n",
    "    Ero=popt[1]\n",
    "    Ephi=popt[2]\n",
    "    Momega=popt[3]\n",
    "    Mphi=popt[4]\n",
    "    return (s + (s**2)*(a + (Ero)/(-s-Momega*Γomegatot*1j+Momega**2) + (Ephi)/(-s-Mphi*Γphitot*1j+Mphi**2) ))/(-s+Mphi*Γphitot*1j+ Mphi**2)  +  (s + (s**2)*(a + (Ero)/(-s+Momega*Γomegatot*1j+Momega**2) + (Ephi)/(-s+Mphi*Γphitot*1j+Mphi**2) ))/(-s-Mphi*Γphitot*1j+ Mphi**2)\n",
    "\n",
    "\n",
    "def DERmomega(s):\n",
    "    a=popt[0]\n",
    "    Ero=popt[1]\n",
    "    Ephi=popt[2]\n",
    "    Momega=popt[3]\n",
    "    Mphi=popt[4]\n",
    "    return (-Ero*s)*( ((2*Momega+Γomegatot*1j)*(1+ s*(a + (Ero)/(-s-Momega*Γomegatot*1j+Momega**2) + (Ephi)/(-s-Mphi*Γphitot*1j+Mphi**2))))/((-s+Momega*Γomegatot*1j+Momega**2)**2)   +   ((2*Momega-Γomegatot*1j)*(1+ s*(a + (Ero)/(-s+Momega*Γomegatot*1j+Momega**2) + (Ephi)/(-s+Mphi*Γphitot*1j+Mphi**2))))/((-s-Momega*Γomegatot*1j+Momega**2)**2)    )\n",
    "\n",
    "\n",
    "\n",
    "def DERmphi(s):\n",
    "    a=popt[0]\n",
    "    Ero=popt[1]\n",
    "    Ephi=popt[2]\n",
    "    Momega=popt[3]\n",
    "    Mphi=popt[4]\n",
    "    return (-Ephi*s)*( ((2*Mphi+Γphitot*1j)*(1+ s*(a + (Ero)/(-s-Momega*Γomegatot*1j+Momega**2) + (Ephi)/(-s-Mphi*Γphitot*1j+Mphi**2))))/((-s+Mphi*Γphitot*1j+Mphi**2)**2)   +   ((2*Mphi-Γphitot*1j)*(1+ s*(a + (Ero)/(-s+Momega*Γomegatot*1j+Momega**2) + (Ephi)/(-s+Mphi*Γphitot*1j+Mphi**2))))/((-s-Mphi*Γphitot*1j+Mphi**2)**2)       )\n",
    "\n",
    "\n",
    "\n"
   ]
  },
  {
   "cell_type": "code",
   "execution_count": 18,
   "id": "01d98399",
   "metadata": {},
   "outputs": [],
   "source": [
    "AM0,AM0err=integrate.quad_vec(lambda x: DERa(x)*integrand_I(x), (4* Mp**2), 1) \n",
    "\n",
    "AM1,AM1err=integrate.quad_vec(lambda x: DERero(x)*integrand_I(x), (4* Mp**2), 1)\n",
    "\n",
    "AM2,AM2err=integrate.quad_vec(lambda x: DERephi(x)*integrand_I(x), (4* Mp**2), 1) \n",
    "\n",
    "AM3,AM3err=integrate.quad_vec(lambda x: DERmomega(x)*integrand_I(x), (4* Mp**2), 1) \n",
    "\n",
    "AM4,AM4err=integrate.quad_vec(lambda x: DERmphi(x)*integrand_I(x), (4* Mp**2), 1)\n"
   ]
  },
  {
   "cell_type": "code",
   "execution_count": 19,
   "id": "909ab7f3",
   "metadata": {},
   "outputs": [
    {
     "name": "stdout",
     "output_type": "stream",
     "text": [
      "α_μ= 5.0551698610596715e-08 (4*Mp^2-1)\n",
      "α_μ(err)=± 5.193146193959021e-11\n",
      "(4.183145080787006e-11+0j)\n"
     ]
    }
   ],
   "source": [
    "AM_error= np.sqrt( (AM0*parameter_errors[0])**2   +(AM1*parameter_errors[1])**2  +(AM2*parameter_errors[2])**2 +(AM3*parameter_errors[3])**2 +(AM4*parameter_errors[4])**2     )\n",
    "\n",
    "print('α_μ=', AMresult, '(4*Mp^2-1)\\nα_μ(err)=±',AM_error.real)\n",
    "\n",
    "\n",
    "AM_errorCOR= np.sqrt( (AM0*parameter_errors[0])**2   +(AM1*parameter_errors[1])**2  +(AM2*parameter_errors[2])**2 +(AM3*parameter_errors[3])**2 +(AM4*parameter_errors[4])**2 + 2*AM0*AM1*pcov[0][1] + 2*AM0*AM2*pcov[0][2] + 2*AM0*AM3*pcov[0][3] + 2*AM0*AM4*pcov[0][4]  + 2*AM1*AM2*pcov[1][2] + 2*AM1*AM3*pcov[1][3] + 2*AM1*AM4*pcov[1][4] +2*AM2*AM3*pcov[2][3] +2*AM2*AM4*pcov[2][4] + 2*AM3*AM4*pcov[3][4]     )\n",
    "print(AM_errorCOR)"
   ]
  },
  {
   "cell_type": "code",
   "execution_count": 20,
   "id": "982b73ff",
   "metadata": {},
   "outputs": [],
   "source": [
    "##0.6**2,0.88**2\n",
    "\n",
    "AMb0,AMb0err=integrate.quad_vec(lambda x: DERa(x)*integrand_I(x), 0.6**2,0.88**2) \n",
    "\n",
    "AMb1,AMb1err=integrate.quad_vec(lambda x: DERero(x)*integrand_I(x), 0.6**2,0.88**2)\n",
    "\n",
    "AMb2,AMb2err=integrate.quad_vec(lambda x: DERephi(x)*integrand_I(x), 0.6**2,0.88**2) \n",
    "\n",
    "AMb3,AMb3err=integrate.quad_vec(lambda x: DERmomega(x)*integrand_I(x), 0.6**2,0.88**2) \n",
    "\n",
    "AMb4,AMb4err=integrate.quad_vec(lambda x: DERmphi(x)*integrand_I(x), 0.6**2,0.88**2)"
   ]
  },
  {
   "cell_type": "code",
   "execution_count": 21,
   "id": "f42220ce",
   "metadata": {},
   "outputs": [
    {
     "name": "stdout",
     "output_type": "stream",
     "text": [
      "α_μ= 3.720556440407797e-08 (4*Mp^2-1)\n",
      "α_μ(err)=± 4.210526799053631e-11\n",
      "(3.469710982956002e-11+0j)\n"
     ]
    }
   ],
   "source": [
    "AMb_error= np.sqrt( (AMb0*parameter_errors[0])**2   +(AMb1*parameter_errors[1])**2  +(AMb2*parameter_errors[2])**2 +(AMb3*parameter_errors[3])**2 +(AMb4*parameter_errors[4])**2     )\n",
    "\n",
    "\n",
    "print('α_μ=', AMresultTRY, '(4*Mp^2-1)\\nα_μ(err)=±',AMb_error.real)\n",
    "\n",
    "\n",
    "AMb_errorCOR= np.sqrt( (AMb0*parameter_errors[0])**2   +(AMb1*parameter_errors[1])**2  +(AMb2*parameter_errors[2])**2 +(AMb3*parameter_errors[3])**2 +(AMb4*parameter_errors[4])**2 + 2*AMb0*AMb1*pcov[0][1] + 2*AMb0*AMb2*pcov[0][2] + 2*AMb0*AMb3*pcov[0][3] + 2*AMb0*AMb4*pcov[0][4]  + 2*AMb1*AMb2*pcov[1][2] + 2*AMb1*AMb3*pcov[1][3] + 2*AMb1*AMb4*pcov[1][4] +2*AMb2*AMb3*pcov[2][3] +2*AMb2*AMb4*pcov[2][4] + 2*AMb3*AMb4*pcov[3][4]     )\n",
    "print(AMb_errorCOR)"
   ]
  },
  {
   "cell_type": "code",
   "execution_count": 22,
   "id": "c701f7df",
   "metadata": {},
   "outputs": [],
   "source": [
    "#0.327**2, 1.2**2\n",
    "\n",
    "AMnew0,AMnew0err=integrate.quad_vec(lambda x: DERa(x)*integrand_I(x), 0.327**2, 1.2**2) \n",
    "\n",
    "AMnew1,AMnew1err=integrate.quad_vec(lambda x: DERero(x)*integrand_I(x), 0.327**2, 1.2**2)\n",
    "\n",
    "AMnew2,AMnew2err=integrate.quad_vec(lambda x: DERephi(x)*integrand_I(x), 0.327**2, 1.2**2) \n",
    "\n",
    "AMnew3,AMnew3err=integrate.quad_vec(lambda x: DERmomega(x)*integrand_I(x), 0.327**2, 1.2**2) \n",
    "\n",
    "AMnew4,AMbnewerr=integrate.quad_vec(lambda x: DERmphi(x)*integrand_I(x), 0.327**2, 1.2**2)"
   ]
  },
  {
   "cell_type": "code",
   "execution_count": 23,
   "id": "35fccbf1",
   "metadata": {},
   "outputs": [
    {
     "name": "stdout",
     "output_type": "stream",
     "text": [
      "α_μ= 5.092684482725697e-08 (0.327-1.2)\n",
      "α_μ(err)=± 5.312991206251646e-11\n",
      "4.3147879856692586e-11\n"
     ]
    }
   ],
   "source": [
    "AMnew_error= np.sqrt( (AMnew0*parameter_errors[0])**2   +(AMnew1*parameter_errors[1])**2  +(AMnew2*parameter_errors[2])**2 +(AMnew3*parameter_errors[3])**2 +(AMnew4*parameter_errors[4])**2     )\n",
    "\n",
    "\n",
    "print('α_μ=', AMresultNEW, '(0.327-1.2)\\nα_μ(err)=±',AMnew_error.real)\n",
    "\n",
    "\n",
    "AMnew_errorCOR= np.sqrt( (AMnew0*parameter_errors[0])**2   +(AMnew1*parameter_errors[1])**2  +(AMnew2*parameter_errors[2])**2 +(AMnew3*parameter_errors[3])**2 +(AMnew4*parameter_errors[4])**2 + 2*AMnew0*AMnew1*pcov[0][1] + 2*AMnew0*AMnew2*pcov[0][2] + 2*AMnew0*AMnew3*pcov[0][3] + 2*AMnew0*AMnew4*pcov[0][4]  + 2*AMnew1*AMnew2*pcov[1][2] + 2*AMnew1*AMnew3*pcov[1][3] + 2*AMnew1*AMnew4*pcov[1][4] +2*AMnew2*AMnew3*pcov[2][3] +2*AMnew2*AMnew4*pcov[2][4] + 2*AMnew3*AMnew4*pcov[3][4]     )\n",
    "print(AMnew_errorCOR.real)"
   ]
  },
  {
   "cell_type": "markdown",
   "id": "c2eefc11",
   "metadata": {},
   "source": [
    "# Partial Decay Widths"
   ]
  },
  {
   "cell_type": "code",
   "execution_count": 24,
   "id": "35bf375f",
   "metadata": {},
   "outputs": [],
   "source": [
    "#Values from PDG\n",
    "Mp=0.13957\n",
    "Mo=popt[3]\n",
    "Mf=popt[4]\n",
    "\n",
    "errMo=parameter_errors[3]\n",
    "errMf=parameter_errors[4]\n",
    "\n",
    "Bo_e=0.6e-6 #in GeV\n",
    "Bf_e=1.27e-6\n",
    "\n",
    "errBo_e=0.02e-6\n",
    "errBf_e=0.04e-6\n",
    "\n",
    "aem=1/137.036\n"
   ]
  },
  {
   "cell_type": "markdown",
   "id": "537756fe",
   "metadata": {},
   "source": [
    "#### g_γω / g_γφ coupling calculation"
   ]
  },
  {
   "cell_type": "code",
   "execution_count": 25,
   "id": "434287b1",
   "metadata": {},
   "outputs": [
    {
     "name": "stdout",
     "output_type": "stream",
     "text": [
      "g_(γω)= 0.05865558641328682  error=  0.0009776009444790663 \n",
      "\n",
      "g_(γφ)= 0.0745519219012113  error=  0.001174080884745118 \n",
      "\n"
     ]
    }
   ],
   "source": [
    "g_go= np.sqrt((3*Bo_e)/(4*np.pi*Mo* aem**2))\n",
    "\n",
    "g_gf= np.sqrt((3*Bf_e)/(4*np.pi*Mf* aem**2))\n",
    "\n",
    "\n",
    "errg_go=np.sqrt(3/(4*np.pi*aem**2))*np.sqrt((errBo_e**2)/(4*Bo_e*Mo) +  (Bo_e* errMo**2)/(4* Mo**3))\n",
    "errg_gf=np.sqrt(3/(4*np.pi*aem**2))*np.sqrt((errBf_e**2)/(4*Bf_e* Mf) +  (Bf_e* errMf**2)/(4* Mf**3))\n",
    "\n",
    "\n",
    "print('g_(γω)=',g_go,' error= ', errg_go,'\\n')\n",
    "print('g_(γφ)=',g_gf,' error= ', errg_gf,'\\n')"
   ]
  },
  {
   "cell_type": "code",
   "execution_count": 26,
   "id": "5e644f36",
   "metadata": {},
   "outputs": [
    {
     "name": "stdout",
     "output_type": "stream",
     "text": [
      "g_(ωππ)= 0.034874378186750876  error= 0.000839993712064591 \n",
      "\n",
      "g_(φππ)= 0.008817998472993058  error= 0.0022867483025178353\n"
     ]
    }
   ],
   "source": [
    "# Calculation of ω->ππ coupling\n",
    "k1=popt[1]\n",
    "err_k1=parameter_errors[1]\n",
    "\n",
    "g_opp=k1/g_go\n",
    "\n",
    "err_g_opp=np.sqrt( (err_k1/g_go)**2  + (k1* errg_go / (g_go**2))**2   )\n",
    "\n",
    "print('g_(ωππ)=',g_opp   ,' error=',err_g_opp ,'\\n' )\n",
    "\n",
    "\n",
    "\n",
    "# Calculation of φ->ππ coupling\n",
    "k2=popt[2]\n",
    "err_k2=parameter_errors[2]\n",
    "\n",
    "g_fpp=abs(k2/g_gf)\n",
    "\n",
    "err_g_fpp=np.sqrt( (err_k2/g_gf)**2  + (k2* errg_gf / (g_gf**2))**2   )\n",
    "\n",
    "print('g_(φππ)=',g_fpp   ,' error=',err_g_fpp )"
   ]
  },
  {
   "cell_type": "code",
   "execution_count": 27,
   "id": "d66455f3",
   "metadata": {},
   "outputs": [
    {
     "name": "stdout",
     "output_type": "stream",
     "text": [
      "g_(ωππ)= 0.034874378186750876  error= 0.000839993712064591 \n",
      "\n",
      "g_(φππ)= 0.008817998472993058  error= 0.0022867483025178353\n"
     ]
    }
   ],
   "source": [
    "# Calculation of ω->ππ coupling\n",
    "#k1=Ero,  k2=Ephi\n",
    "k1=popt[1]\n",
    "err_k1=parameter_errors[1]\n",
    "\n",
    "g_opp=k1/g_go\n",
    "\n",
    "err_g_opp=np.sqrt( (err_k1/g_go)**2  + (k1* errg_go / (g_go**2))**2   )\n",
    "\n",
    "print('g_(ωππ)=',g_opp   ,' error=',err_g_opp ,'\\n' )\n",
    "\n",
    "\n",
    "\n",
    "# Calculation of φ->ππ coupling\n",
    "k2=popt[2]\n",
    "err_k2=parameter_errors[2]\n",
    "\n",
    "g_fpp=k2/g_gf\n",
    "\n",
    "err_g_fpp=np.sqrt( (err_k2/g_gf)**2  + (k2* errg_gf / (g_gf**2))**2   )\n",
    "\n",
    "print('g_(φππ)=',g_fpp   ,' error=',err_g_fpp )"
   ]
  },
  {
   "cell_type": "markdown",
   "id": "56203e9d",
   "metadata": {},
   "source": [
    "#### Γ( ..->ππ) calculation"
   ]
  },
  {
   "cell_type": "code",
   "execution_count": 28,
   "id": "9484f563",
   "metadata": {},
   "outputs": [
    {
     "name": "stdout",
     "output_type": "stream",
     "text": [
      "Γ(ω->ππ)= 0.00017465842791855382  error=  8.4137403353852e-06\n",
      "Γ(ω->ππ)/Γtot= 0.02057225299394038  error=  0.0009910177073480804\n",
      "(Γ(ω->ππ)/Γtot)x(Γ(ω->ee)/Γtot) = 1.4538694695364226e-06  error=  8.516877109443572e-08\n"
     ]
    }
   ],
   "source": [
    "#For ω->ππ\n",
    "B_opp=((g_opp**2)* ((Mo**2 - 4* Mp**2)**(3/2)) * abs(OmegaFunc(Mo**2))**2 )/(48*np.pi* Mo**2)\n",
    "\n",
    "err_B_opp=((err_g_opp) *2*g_opp* ((Mo**2 - 4* Mp**2)**(3/2)) * abs(OmegaFunc(Mo**2))**2    )/(48*np.pi* Mo**2)\n",
    "\n",
    "print('Γ(ω->ππ)=', B_opp, ' error= ', err_B_opp )\n",
    "print('Γ(ω->ππ)/Γtot=', B_opp/Γomegatot,' error= ', err_B_opp/Γomegatot )\n",
    "print( '(Γ(ω->ππ)/Γtot)x(Γ(ω->ee)/Γtot) =', (B_opp/Γomegatot)*(Bo_e/Γomegatot), ' error= ', np.sqrt((B_opp*errBo_e)**2 +(Bo_e*err_B_opp)**2  )/(Γomegatot**2))\n",
    "\n"
   ]
  },
  {
   "cell_type": "code",
   "execution_count": 29,
   "id": "6aff7c8f",
   "metadata": {},
   "outputs": [
    {
     "name": "stdout",
     "output_type": "stream",
     "text": [
      "Γ(φ->ππ)= 1.0061004690359014e-06  error=  5.218187657384178e-07\n",
      "Γ(φ->ππ)/Γtot= 0.00023678523629934133  error=  0.0001228097824755043\n",
      "(Γ(φ->ππ)/Γtot)x(Γ(φ->ee)/Γtot) = 7.077365264772029e-08  error=  3.677470973438948e-08\n"
     ]
    }
   ],
   "source": [
    "#For φ->ππ\n",
    "B_fpp=((g_fpp**2)* ((Mf**2 - 4* Mp**2)**(3/2)) * abs(OmegaFunc(Mf**2))**2 )/(48*np.pi* Mf**2)\n",
    "\n",
    "err_B_fpp=((err_g_fpp) *2*g_fpp* ((Mf**2 - 4* Mp**2)**(3/2)) * abs(OmegaFunc(Mf**2))**2    )/(48*np.pi* Mf**2)\n",
    "\n",
    "print('Γ(φ->ππ)=', B_fpp, ' error= ', err_B_fpp)\n",
    "print('Γ(φ->ππ)/Γtot=', B_fpp/Γphitot,' error= ', err_B_fpp/Γphitot )\n",
    "print( '(Γ(φ->ππ)/Γtot)x(Γ(φ->ee)/Γtot) =', (B_fpp/Γphitot)*(Bf_e/Γphitot), ' error= ', np.sqrt((B_fpp*errBf_e)**2 +(Bf_e*err_B_fpp)**2  )/(Γphitot**2))"
   ]
  }
 ],
 "metadata": {
  "kernelspec": {
   "display_name": "Python 3 (ipykernel)",
   "language": "python",
   "name": "python3"
  },
  "language_info": {
   "codemirror_mode": {
    "name": "ipython",
    "version": 3
   },
   "file_extension": ".py",
   "mimetype": "text/x-python",
   "name": "python",
   "nbconvert_exporter": "python",
   "pygments_lexer": "ipython3",
   "version": "3.9.6"
  }
 },
 "nbformat": 4,
 "nbformat_minor": 5
}
